{
 "cells": [
  {
   "cell_type": "markdown",
   "metadata": {},
   "source": [
    "# How-to-count-distance-to-the-previous- For each value, count the difference of the distance from the previous zero (or the start of the Series, whichever is closer) and if there are no previous zeros,print the position Consider a DataFrame df where there is an integer column {'X':[7, 2, 0, 3, 4, 2, 5, 0, 3, 4]}"
   ]
  },
  {
   "cell_type": "code",
   "execution_count": 29,
   "metadata": {},
   "outputs": [
    {
     "name": "stdout",
     "output_type": "stream",
     "text": [
      "[-1  2  7]\n",
      "[0 1 2 3 4 5 6 7 8 9]\n",
      "   X  Y\n",
      "0  7  1\n",
      "1  2  2\n",
      "2  0  0\n",
      "3  3  1\n",
      "4  4  2\n",
      "5  2  3\n",
      "6  5  4\n",
      "7  0  0\n",
      "8  3  1\n",
      "9  4  2\n"
     ]
    }
   ],
   "source": [
    "import pandas as pd\n",
    "import numpy as np\n",
    "\n",
    "df = pd.DataFrame({'X': [7, 2, 0, 3, 4, 2, 5, 0, 3, 4]})\n",
    "\n",
    "# indices of zeros \n",
    "izero = np.r_[-1, (df['X']==0).nonzero()[0]] \n",
    "\n",
    "print(izero)\n",
    "idx = np.arange(len(df))\n",
    "print(idx)\n",
    "df['Y'] = idx - izero[np.searchsorted(izero - 1, idx) - 1]\n",
    "print(df)\n",
    "\n"
   ]
  },
  {
   "cell_type": "markdown",
   "metadata": {},
   "source": [
    "# Create a DatetimeIndex that contains each business day of 2015 and use it to index a series of random numbers."
   ]
  },
  {
   "cell_type": "code",
   "execution_count": 24,
   "metadata": {},
   "outputs": [
    {
     "name": "stdout",
     "output_type": "stream",
     "text": [
      "DatetimeIndex(['2015-01-01', '2015-01-02', '2015-01-05', '2015-01-06',\n",
      "               '2015-01-07', '2015-01-08', '2015-01-09', '2015-01-12',\n",
      "               '2015-01-13', '2015-01-14',\n",
      "               ...\n",
      "               '2015-12-18', '2015-12-21', '2015-12-22', '2015-12-23',\n",
      "               '2015-12-24', '2015-12-25', '2015-12-28', '2015-12-29',\n",
      "               '2015-12-30', '2015-12-31'],\n",
      "              dtype='datetime64[ns]', length=261, freq='B')\n",
      "2015-01-01    0.563954\n",
      "2015-01-02    0.232582\n",
      "2015-01-05    0.157079\n",
      "2015-01-06    0.914568\n",
      "2015-01-07    0.084408\n",
      "2015-01-08    0.990068\n",
      "2015-01-09    0.134881\n",
      "2015-01-12    0.158654\n",
      "2015-01-13    0.590610\n",
      "2015-01-14    0.992181\n",
      "2015-01-15    0.684053\n",
      "2015-01-16    0.710409\n",
      "2015-01-19    0.928257\n",
      "2015-01-20    0.621457\n",
      "2015-01-21    0.273638\n",
      "2015-01-22    0.340242\n",
      "2015-01-23    0.149537\n",
      "2015-01-26    0.048957\n",
      "2015-01-27    0.981807\n",
      "2015-01-28    0.507232\n",
      "2015-01-29    0.781272\n",
      "2015-01-30    0.660105\n",
      "2015-02-02    0.245999\n",
      "2015-02-03    0.482381\n",
      "2015-02-04    0.212792\n",
      "2015-02-05    0.897280\n",
      "2015-02-06    0.741986\n",
      "2015-02-09    0.762676\n",
      "2015-02-10    0.977562\n",
      "2015-02-11    0.657150\n",
      "                ...   \n",
      "2015-11-20    0.805432\n",
      "2015-11-23    0.712908\n",
      "2015-11-24    0.317329\n",
      "2015-11-25    0.881929\n",
      "2015-11-26    0.464913\n",
      "2015-11-27    0.059254\n",
      "2015-11-30    0.775424\n",
      "2015-12-01    0.058600\n",
      "2015-12-02    0.364151\n",
      "2015-12-03    0.490698\n",
      "2015-12-04    0.040503\n",
      "2015-12-07    0.638012\n",
      "2015-12-08    0.166838\n",
      "2015-12-09    0.398590\n",
      "2015-12-10    0.628366\n",
      "2015-12-11    0.901966\n",
      "2015-12-14    0.393255\n",
      "2015-12-15    0.554747\n",
      "2015-12-16    0.379905\n",
      "2015-12-17    0.658166\n",
      "2015-12-18    0.861518\n",
      "2015-12-21    0.559504\n",
      "2015-12-22    0.468115\n",
      "2015-12-23    0.161344\n",
      "2015-12-24    0.300772\n",
      "2015-12-25    0.970700\n",
      "2015-12-28    0.881721\n",
      "2015-12-29    0.228456\n",
      "2015-12-30    0.566300\n",
      "2015-12-31    0.709731\n",
      "Freq: B, Length: 261, dtype: float64\n"
     ]
    }
   ],
   "source": [
    "# import pandas and numpy linrary\n",
    "import pandas as pd\n",
    "import numpy as np\n",
    "\n",
    "# create data frame based on date range \n",
    "df=pd.date_range(start='2015-01-01', end='2015-12-31', freq='B')\n",
    "print(df)\n",
    "\n",
    "# use data frame as index of series with uniform distribution\n",
    "s = pd.Series(np.random.rand(len(df)), index=df)\n",
    "\n",
    "#display series\n",
    "print(s)"
   ]
  },
  {
   "cell_type": "markdown",
   "metadata": {},
   "source": [
    "# Find the sum of the values in s for every Wednesday."
   ]
  },
  {
   "cell_type": "code",
   "execution_count": 25,
   "metadata": {},
   "outputs": [
    {
     "data": {
      "text/plain": [
       "26.75211810436306"
      ]
     },
     "execution_count": 25,
     "metadata": {},
     "output_type": "execute_result"
    }
   ],
   "source": [
    "s[df.weekday == 2].sum()"
   ]
  },
  {
   "cell_type": "markdown",
   "metadata": {},
   "source": [
    "# Average For each calendar month"
   ]
  },
  {
   "cell_type": "code",
   "execution_count": 22,
   "metadata": {},
   "outputs": [
    {
     "data": {
      "text/plain": [
       "2015-01-31    0.468720\n",
       "2015-02-28    0.468782\n",
       "2015-03-31    0.461620\n",
       "2015-04-30    0.524486\n",
       "2015-05-31    0.466876\n",
       "2015-06-30    0.466109\n",
       "2015-07-31    0.620026\n",
       "2015-08-31    0.367347\n",
       "2015-09-30    0.538961\n",
       "2015-10-31    0.571364\n",
       "2015-11-30    0.520232\n",
       "2015-12-31    0.466125\n",
       "Freq: M, dtype: float64"
      ]
     },
     "execution_count": 22,
     "metadata": {},
     "output_type": "execute_result"
    }
   ],
   "source": [
    "s.resample('M').mean()"
   ]
  },
  {
   "cell_type": "markdown",
   "metadata": {},
   "source": [
    "# For each group of four consecutive calendar months in s, find the date on which the highest value occurred."
   ]
  },
  {
   "cell_type": "code",
   "execution_count": 21,
   "metadata": {},
   "outputs": [
    {
     "data": {
      "text/plain": [
       "2015-01-31   2015-01-15\n",
       "2015-05-31   2015-05-07\n",
       "2015-09-30   2015-09-02\n",
       "2016-01-31   2015-11-11\n",
       "dtype: datetime64[ns]"
      ]
     },
     "execution_count": 21,
     "metadata": {},
     "output_type": "execute_result"
    }
   ],
   "source": [
    "s.groupby(pd.Grouper(freq='4M')).idxmax()"
   ]
  },
  {
   "cell_type": "code",
   "execution_count": null,
   "metadata": {},
   "outputs": [],
   "source": []
  }
 ],
 "metadata": {
  "kernelspec": {
   "display_name": "Python 3",
   "language": "python",
   "name": "python3"
  },
  "language_info": {
   "codemirror_mode": {
    "name": "ipython",
    "version": 3
   },
   "file_extension": ".py",
   "mimetype": "text/x-python",
   "name": "python",
   "nbconvert_exporter": "python",
   "pygments_lexer": "ipython3",
   "version": "3.7.0"
  }
 },
 "nbformat": 4,
 "nbformat_minor": 2
}
